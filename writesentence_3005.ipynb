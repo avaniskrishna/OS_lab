{
 "cells": [
  {
   "cell_type": "code",
   "execution_count": 2,
   "id": "d0e3b2e7",
   "metadata": {},
   "outputs": [
    {
     "name": "stdout",
     "output_type": "stream",
     "text": [
      "This is the first line\n",
      "This is the second line\n",
      "This is the third line\n"
     ]
    }
   ],
   "source": [
    "# Open the file for writing\n",
    "with open('file.txt', 'w') as f:\n",
    "\t# Define the data to be written\n",
    "\tdata = ['This is the first line', 'This is the second line', 'This is the third line']\n",
    "\t# Use a for loop to write each line of data to the file\n",
    "\tfor line in data:\n",
    "\t\tf.write(line + '\\n')\n",
    "\t\t# Optionally, print the data as it is written to the file\n",
    "\t\tprint(line)\n",
    "# The file is automatically closed when the 'with' block ends"
   ]
  },
  {
   "cell_type": "code",
   "execution_count": null,
   "id": "5ab64581",
   "metadata": {},
   "outputs": [],
   "source": []
  }
 ],
 "metadata": {
  "kernelspec": {
   "display_name": "Python 3 (ipykernel)",
   "language": "python",
   "name": "python3"
  },
  "language_info": {
   "codemirror_mode": {
    "name": "ipython",
    "version": 3
   },
   "file_extension": ".py",
   "mimetype": "text/x-python",
   "name": "python",
   "nbconvert_exporter": "python",
   "pygments_lexer": "ipython3",
   "version": "3.9.12"
  }
 },
 "nbformat": 4,
 "nbformat_minor": 5
}
