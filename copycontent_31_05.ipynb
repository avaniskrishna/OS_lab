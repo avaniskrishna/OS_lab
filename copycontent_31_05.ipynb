{
 "cells": [
  {
   "cell_type": "markdown",
   "id": "1b2fc2dc",
   "metadata": {},
   "source": [
    "## Write program to copy contents of one file to another file. "
   ]
  },
  {
   "cell_type": "code",
   "execution_count": 9,
   "id": "7426695b",
   "metadata": {},
   "outputs": [],
   "source": [
    "# open both files\n",
    "with open('first.txt','r') as firstfile, open('second.txt','a') as secondfile:\n",
    "\t\n",
    "\t# read content from first file\n",
    "\tfor line in firstfile:\n",
    "\t\t\t# append content to second file\n",
    "\t\t\tsecondfile.write(line)"
   ]
  },
  {
   "cell_type": "markdown",
   "id": "35fb6115",
   "metadata": {},
   "source": [
    "## 2.Program Count the Numbers of Words in a File"
   ]
  },
  {
   "cell_type": "code",
   "execution_count": 7,
   "id": "bb71d3f2",
   "metadata": {},
   "outputs": [
    {
     "name": "stdout",
     "output_type": "stream",
     "text": [
      "Number of words in the text file: 15\n"
     ]
    }
   ],
   "source": [
    "file = open(r\"C:\\Users\\avani\\OneDrive\\Documents\\Class\\Term 4\\OS\\inclass code\\file_AIDE_3005.txt\", 'rt')\n",
    "data = file.read()\n",
    "words = data.split()\n",
    "\n",
    "print('Number of words in the text file:', len(words))"
   ]
  },
  {
   "cell_type": "markdown",
   "id": "c5157e70",
   "metadata": {},
   "source": [
    "## Program to Write a Sentence to a File"
   ]
  },
  {
   "cell_type": "code",
   "execution_count": 6,
   "id": "d9c81900",
   "metadata": {},
   "outputs": [
    {
     "name": "stdout",
     "output_type": "stream",
     "text": [
      "This is the first line\n",
      "This is the second line\n",
      "This is the third line\n"
     ]
    }
   ],
   "source": [
    "# Open the file for writing\n",
    "with open('file.txt', 'w') as f:\n",
    "\t# Define the data to be written\n",
    "\tdata = ['This is the first line', 'This is the second line', 'This is the third line']\n",
    "\t# Use a for loop to write each line of data to the file\n",
    "\tfor line in data:\n",
    "\t\tf.write(line + '\\n')\n",
    "\t\t# Optionally, print the data as it is written to the file\n",
    "\t\tprint(line)\n",
    "# The file is automatically closed when the 'with' block ends"
   ]
  }
 ],
 "metadata": {
  "kernelspec": {
   "display_name": "Python 3 (ipykernel)",
   "language": "python",
   "name": "python3"
  },
  "language_info": {
   "codemirror_mode": {
    "name": "ipython",
    "version": 3
   },
   "file_extension": ".py",
   "mimetype": "text/x-python",
   "name": "python",
   "nbconvert_exporter": "python",
   "pygments_lexer": "ipython3",
   "version": "3.9.12"
  }
 },
 "nbformat": 4,
 "nbformat_minor": 5
}
