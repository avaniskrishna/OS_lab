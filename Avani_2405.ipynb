{
 "cells": [
  {
   "cell_type": "code",
   "execution_count": 32,
   "id": "50faccd9",
   "metadata": {},
   "outputs": [
    {
     "name": "stdout",
     "output_type": "stream",
     "text": [
      "Enter the number of elements: 8\n",
      "Enter the random numbers 0:65\n",
      "Enter the random numbers 1:43\n",
      "Enter the random numbers 2:56\n",
      "Enter the random numbers 3:87\n",
      "Enter the random numbers 4:34\n",
      "Enter the random numbers 5:54\n",
      "Enter the random numbers 6:23\n",
      "Enter the random numbers 7:45\n",
      "Sorted numbers: [23, 34, 43, 45, 54, 56, 65, 87]\n"
     ]
    }
   ],
   "source": [
    "def enter_numbers():\n",
    "    numbers = []\n",
    "    num_count = int(input(\"Enter the number of elements: \"))\n",
    "    \n",
    "    for i in range(num_count):\n",
    "        num = int(input(\"Enter the random numbers {}:\".format(i)))    #if format(i) - start counting from 0\n",
    "        numbers.append(num)\n",
    "    \n",
    "    return numbers\n",
    "\n",
    "def sort_numbers(numbers):\n",
    "    for i in range(len(numbers)):\n",
    "        for j in range(i + 1, len(numbers)):\n",
    "            if numbers[i] > numbers[j]:                        #< means descending\n",
    "                numbers[i], numbers[j] = numbers[j], numbers[i]\n",
    "    return numbers\n",
    "\n",
    "input_numbers = enter_numbers()\n",
    "sorted_numbers = sort_numbers(input_numbers)\n",
    "print(\"Sorted numbers:\", sorted_numbers)"
   ]
  }
 ],
 "metadata": {
  "kernelspec": {
   "display_name": "Python 3 (ipykernel)",
   "language": "python",
   "name": "python3"
  },
  "language_info": {
   "codemirror_mode": {
    "name": "ipython",
    "version": 3
   },
   "file_extension": ".py",
   "mimetype": "text/x-python",
   "name": "python",
   "nbconvert_exporter": "python",
   "pygments_lexer": "ipython3",
   "version": "3.9.12"
  }
 },
 "nbformat": 4,
 "nbformat_minor": 5
}
