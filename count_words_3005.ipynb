{
 "cells": [
  {
   "cell_type": "code",
   "execution_count": 11,
   "id": "57cea864",
   "metadata": {},
   "outputs": [
    {
     "name": "stdout",
     "output_type": "stream",
     "text": [
      "Number of words in the text file: 15\n"
     ]
    }
   ],
   "source": [
    "file = open(r\"C:\\Users\\avani\\OneDrive\\Documents\\Class\\Term 4\\OS\\inclass code\\file_AIDE_3005.txt\", 'rt')\n",
    "data = file.read()\n",
    "words = data.split()\n",
    "\n",
    "print('Number of words in the text file:', len(words))"
   ]
  },
  {
   "cell_type": "code",
   "execution_count": 12,
   "id": "898d690d",
   "metadata": {},
   "outputs": [
    {
     "name": "stdout",
     "output_type": "stream",
     "text": [
      "Number of words in the text file: 15\n"
     ]
    }
   ],
   "source": [
    "#or\n",
    "file = open(\"C:\\\\Users\\\\avani\\\\OneDrive\\\\Documents\\\\Class\\\\Term 4\\\\OS\\\\inclass code\\\\file_AIDE_3005.txt\", 'rt')\n",
    "data = file.read()\n",
    "words = data.split()\n",
    "\n",
    "print('Number of words in the text file:', len(words))\n"
   ]
  },
  {
   "cell_type": "code",
   "execution_count": 13,
   "id": "6dfd3a78",
   "metadata": {},
   "outputs": [],
   "source": [
    "#The error you encountered is related to the file path string you provided.\n",
    "#The backslashes in the file path are being interpreted as escape sequences.\n",
    "#To resolve this, you can either use double backslashes (\\\\) to escape the backslashes or\n",
    "#use a raw string by prefixing the path with an 'r'."
   ]
  },
  {
   "cell_type": "code",
   "execution_count": null,
   "id": "e09016d9",
   "metadata": {},
   "outputs": [],
   "source": []
  }
 ],
 "metadata": {
  "kernelspec": {
   "display_name": "Python 3 (ipykernel)",
   "language": "python",
   "name": "python3"
  },
  "language_info": {
   "codemirror_mode": {
    "name": "ipython",
    "version": 3
   },
   "file_extension": ".py",
   "mimetype": "text/x-python",
   "name": "python",
   "nbconvert_exporter": "python",
   "pygments_lexer": "ipython3",
   "version": "3.9.12"
  }
 },
 "nbformat": 4,
 "nbformat_minor": 5
}
